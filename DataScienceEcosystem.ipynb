{
 "cells": [
  {
   "cell_type": "markdown",
   "id": "3a5a5320-f4dd-4d6d-903d-395d71d4a899",
   "metadata": {},
   "source": [
    "# Data Science Tools and Ecosystems"
   ]
  },
  {
   "cell_type": "markdown",
   "id": "7473b7ab-ec5e-483e-96db-aa446a3bd111",
   "metadata": {},
   "source": [
    "In the following notebook, we are going to go over the main Data Science Tools and Ecosystems."
   ]
  },
  {
   "cell_type": "markdown",
   "id": "82dce138-6ffa-4ceb-848b-831c4b837afb",
   "metadata": {},
   "source": [
    "some of the popular languages used by Data Scientists are:\n",
    "1. Python\n",
    "2. R\n",
    "3. Julia\n",
    "4. Structured Query Languge (SQL)"
   ]
  },
  {
   "cell_type": "markdown",
   "id": "4c1f00eb-6f3e-458f-9329-d7aaadfe45d7",
   "metadata": {},
   "source": [
    "Knowing libraries is vital in the data manipulation and cleaning process as well as analysis and artificial intelligence. So, here is a list of the most important libraries for Data Science:\n",
    "\n",
    "1. Pandas\n",
    "2. NumPy\n",
    "3. SciPy\n",
    "4. Matplotlib\n",
    "5. Tensorflow   (AI)\n",
    "6. Keras        (AI) (Deeplearning)\n",
    "7. Scikit-learn (AI) (Regression / classification ML models)"
   ]
  },
  {
   "cell_type": "markdown",
   "id": "82fc226f-bfcd-4eab-98b9-431528026267",
   "metadata": {},
   "source": [
    "Moreover, the following tools are vital for DS:\n",
    "| Tool Name | Usage |\n",
    "|-----------|-------|\n",
    "|   Apache Airflow  | Data Management|\n",
    "|   Hue             | Data Visualization|\n",
    "|   IBM Data Refinery  | Data Integration and Transformation|\n",
    "|   Prometheus  | Model Monitoring and Assessment|\n"
   ]
  },
  {
   "cell_type": "markdown",
   "id": "3ef10411-6d83-4108-9c17-7d073724adb7",
   "metadata": {},
   "source": [
    "### In the cell below, you can find some basic arithmetic expressions in python"
   ]
  },
  {
   "cell_type": "code",
   "execution_count": 1,
   "id": "ec9563b4-87a4-46b6-bd21-b04406c6b7fc",
   "metadata": {},
   "outputs": [
    {
     "data": {
      "text/plain": [
       "17"
      ]
     },
     "execution_count": 1,
     "metadata": {},
     "output_type": "execute_result"
    }
   ],
   "source": [
    "#below is a simple arithmeic exp to multiply then add integers\n",
    "(3 * 4) + 5\n"
   ]
  },
  {
   "cell_type": "code",
   "execution_count": 4,
   "id": "7fc43819-8e42-4f72-a68d-7d3c2abd0153",
   "metadata": {},
   "outputs": [
    {
     "name": "stdout",
     "output_type": "stream",
     "text": [
      "200 minutes are equal to 3.3333333333333335 hours\n"
     ]
    }
   ],
   "source": [
    "#this will convert 200 minutes to hours by dividing by 60\n",
    "\n",
    "def main():\n",
    "    minutes = 200\n",
    "    hours =  minutes / 60\n",
    "    print('200 minutes are equal to',hours,'hours')\n",
    "main()"
   ]
  },
  {
   "cell_type": "markdown",
   "id": "0f62073d-5473-4f53-af07-2bc8da953605",
   "metadata": {},
   "source": [
    "**Objectives** :\n",
    "* Getting to know popular ds languages\n",
    "* familiarizing yourself with github and the concept of code asset management\n",
    "* Listing important ds libraries and their main usage\n"
   ]
  },
  {
   "cell_type": "markdown",
   "id": "700c2f4b-0b38-41a1-a725-aa4bef80170b",
   "metadata": {},
   "source": [
    "## Author: \n",
    "Yusuf Ayman Rihan"
   ]
  },
  {
   "cell_type": "code",
   "execution_count": null,
   "id": "b9a107a7-bc50-4b13-83d9-170a49b5d59e",
   "metadata": {},
   "outputs": [],
   "source": []
  }
 ],
 "metadata": {
  "kernelspec": {
   "display_name": "Python",
   "language": "python",
   "name": "conda-env-python-py"
  },
  "language_info": {
   "codemirror_mode": {
    "name": "ipython",
    "version": 3
   },
   "file_extension": ".py",
   "mimetype": "text/x-python",
   "name": "python",
   "nbconvert_exporter": "python",
   "pygments_lexer": "ipython3",
   "version": "3.7.12"
  }
 },
 "nbformat": 4,
 "nbformat_minor": 5
}
